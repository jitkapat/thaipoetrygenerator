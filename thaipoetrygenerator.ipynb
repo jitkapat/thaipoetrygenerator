{
  "nbformat": 4,
  "nbformat_minor": 0,
  "metadata": {
    "colab": {
      "name": "thaipoetrygenerator",
      "version": "0.3.2",
      "provenance": [],
      "collapsed_sections": []
    },
    "kernelspec": {
      "name": "python3",
      "display_name": "Python 3"
    },
    "accelerator": "GPU"
  },
  "cells": [
    {
      "cell_type": "markdown",
      "metadata": {
        "id": "sXwVVs62kVoF",
        "colab_type": "text"
      },
      "source": [
        "# **Import modules and data file**"
      ]
    },
    {
      "cell_type": "code",
      "metadata": {
        "id": "3hYzvthilL_J",
        "colab_type": "code",
        "outputId": "676873d9-7eae-4147-89c7-7a9218a236c1",
        "colab": {
          "resources": {
            "http://localhost:8080/nbextensions/google.colab/files.js": {
              "data": "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",
              "ok": true,
              "headers": [
                [
                  "content-type",
                  "application/javascript"
                ]
              ],
              "status": 200,
              "status_text": ""
            }
          },
          "base_uri": "https://localhost:8080/",
          "height": 57
        }
      },
      "source": [
        "from google.colab import files\n",
        "files.upload()"
      ],
      "execution_count": 5,
      "outputs": [
        {
          "output_type": "display_data",
          "data": {
            "text/html": [
              "\n",
              "     <input type=\"file\" id=\"files-9282a079-32ea-4968-a06f-c0ae5066b44e\" name=\"files[]\" multiple disabled />\n",
              "     <output id=\"result-9282a079-32ea-4968-a06f-c0ae5066b44e\">\n",
              "      Upload widget is only available when the cell has been executed in the\n",
              "      current browser session. Please rerun this cell to enable.\n",
              "      </output>\n",
              "      <script src=\"/nbextensions/google.colab/files.js\"></script> "
            ],
            "text/plain": [
              "<IPython.core.display.HTML object>"
            ]
          },
          "metadata": {
            "tags": []
          }
        },
        {
          "output_type": "execute_result",
          "data": {
            "text/plain": [
              "{}"
            ]
          },
          "metadata": {
            "tags": []
          },
          "execution_count": 5
        }
      ]
    },
    {
      "cell_type": "code",
      "metadata": {
        "id": "yl6MpduqLU2a",
        "colab_type": "code",
        "colab": {}
      },
      "source": [
        "from keras.callbacks import Callback, ModelCheckpoint, TensorBoard\n",
        "from keras.layers import Dense, Dropout, Embedding, LSTM, TimeDistributed, Flatten\n",
        "from keras.models import load_model, Sequential\n",
        "from keras.optimizers import Adam\n",
        "from keras.preprocessing.sequence import pad_sequences\n",
        "from pickle import dump, load\n",
        "from keras.utils import to_categorical\n",
        "import matplotlib.pyplot as plt\n",
        "import numpy as np\n",
        "import random"
      ],
      "execution_count": 0,
      "outputs": []
    },
    {
      "cell_type": "code",
      "metadata": {
        "id": "xk1gCKPwyF6P",
        "colab_type": "code",
        "colab": {}
      },
      "source": [
        "# import file\n",
        "def load_file(filename):\n",
        "    \"\"\"\n",
        "    - load file from filename and return a really long string\n",
        "    - file is expected to be cleaned beforehand\n",
        "    \"\"\"\n",
        "    file = open(filename, encoding = \"utf8\")\n",
        "    raw_text = file.read()[:20000]\n",
        "    file.close()\n",
        "    return raw_text\n",
        "\n",
        "\n",
        "def create_dict(raw_text):\n",
        "    \"\"\"\n",
        "    create character dictionary and mapping to indices from data file\n",
        "    \"\"\"\n",
        "    char = sorted(set(raw_text))\n",
        "    mapping = {c : i for i, c in enumerate(char)}\n",
        "    vocab_size = len(mapping)\n",
        "    return mapping, vocab_size\n",
        "\n",
        "def fixed_len_seq(raw_text, seq_len):\n",
        "    \"\"\"\n",
        "    split data into sequences with fixed lengths\n",
        "    \"\"\"\n",
        "    sequences = list()\n",
        "    for i in range(seq_len, len(raw_text)):\n",
        "        seq = raw_text[i-seq_len:i+1]\n",
        "        sequences.append(seq)\n",
        "    return sequences\n",
        "\n",
        "def encode(sequences, encoder):\n",
        "    \"\"\"\n",
        "    encode sequences text into integers\n",
        "    \"\"\"\n",
        "    result = []\n",
        "    for seq in sequences:\n",
        "        encoded_seq = [encoder[char] for char in seq]\n",
        "        result.append(encoded_seq)\n",
        "    return result\n",
        "        \n",
        "\n",
        "def create_xy(sequences, vocab_size):\n",
        "    # change here to adapt expected input shape for RNN layers\n",
        "    \"\"\"\n",
        "    convert encoded sequences into predictor & label\n",
        "    \"\"\"\n",
        "    sequences = np.array(sequences)\n",
        "    X, y = sequences[:,:-1], sequences[:,-1]\n",
        "    sequences = [to_categorical(x, num_classes = vocab_size) for x in X]\n",
        "    X = np.array(sequences)\n",
        "    y = to_categorical(y, num_classes = vocab_size)\n",
        "    return X,y\n",
        "\n",
        "        \n",
        "def preprocess(filename, seq_len):\n",
        "    \"\"\"\n",
        "    preprocess file intro appropriate format for Keras\n",
        "    \"\"\"\n",
        "    raw_text = load_file(filename)\n",
        "    sequences = fixed_len_seq(raw_text, seq_len)\n",
        "    mapping, vocab_size = create_dict(raw_text)\n",
        "    vocab_size = 71\n",
        "    encoded_seq = encode(sequences, mapping)\n",
        "    x, y = create_xy(encoded_seq, vocab_size)\n",
        "    return x, y, mapping, vocab_size"
      ],
      "execution_count": 0,
      "outputs": []
    },
    {
      "cell_type": "markdown",
      "metadata": {
        "id": "4gzlV0jLkMq1",
        "colab_type": "text"
      },
      "source": [
        "# **Data preprocessing**"
      ]
    },
    {
      "cell_type": "code",
      "metadata": {
        "id": "m3aZ7EeA31Tu",
        "colab_type": "code",
        "colab": {}
      },
      "source": [
        "x_train, y_train, mapping, vocab_size = preprocess('khunchang_train.txt', 64)"
      ],
      "execution_count": 0,
      "outputs": []
    },
    {
      "cell_type": "code",
      "metadata": {
        "id": "zDR-_9Jo6yzi",
        "colab_type": "code",
        "colab": {}
      },
      "source": [
        "x_val, y_val, mapping, vocab_size = preprocess('khunchang_val.txt', 64)"
      ],
      "execution_count": 0,
      "outputs": []
    },
    {
      "cell_type": "code",
      "metadata": {
        "id": "Rt0EgVpk626L",
        "colab_type": "code",
        "colab": {}
      },
      "source": [
        "x_test, y_test, mapping, vocab_size = preprocess('khunchang_test.txt', 64)"
      ],
      "execution_count": 0,
      "outputs": []
    },
    {
      "cell_type": "code",
      "metadata": {
        "id": "bKE-fVhfYIDF",
        "colab_type": "code",
        "colab": {
          "base_uri": "https://localhost:8080/",
          "height": 34
        },
        "outputId": "c3c6a930-995a-4546-a30c-67b253e2a113"
      },
      "source": [
        "x_train.shape\n",
        "x_val.shape"
      ],
      "execution_count": 191,
      "outputs": [
        {
          "output_type": "execute_result",
          "data": {
            "text/plain": [
              "(19936, 64, 71)"
            ]
          },
          "metadata": {
            "tags": []
          },
          "execution_count": 191
        }
      ]
    },
    {
      "cell_type": "code",
      "metadata": {
        "id": "tERLjKPCargH",
        "colab_type": "code",
        "colab": {
          "base_uri": "https://localhost:8080/",
          "height": 34
        },
        "outputId": "78357233-43fd-4e24-c840-c66dff6d9ed0"
      },
      "source": [
        "y_train.shape"
      ],
      "execution_count": 96,
      "outputs": [
        {
          "output_type": "execute_result",
          "data": {
            "text/plain": [
              "(19936, 71)"
            ]
          },
          "metadata": {
            "tags": []
          },
          "execution_count": 96
        }
      ]
    },
    {
      "cell_type": "markdown",
      "metadata": {
        "id": "5MzREYwqlUzH",
        "colab_type": "text"
      },
      "source": [
        "# **Model training**"
      ]
    },
    {
      "cell_type": "code",
      "metadata": {
        "id": "8S3RtwoB6m8E",
        "colab_type": "code",
        "outputId": "e467df98-a94f-4d30-d84e-bd6fe8229113",
        "colab": {
          "base_uri": "https://localhost:8080/",
          "height": 466
        }
      },
      "source": [
        "# model 1\n",
        "# define model\n",
        "batch_size = 64\n",
        "drop_rate = 0.5\n",
        "seq_len = 64\n",
        "embedding_size = 32\n",
        "rnn_size = 512\n",
        "num_layers = 3\n",
        "clip_norm = 5\n",
        "learning_rate = 0.001\n",
        "\n",
        "# build model\n",
        "model = Sequential()\n",
        "model.add(Embedding(vocab_size, embedding_size, input_shape = (seq_len,)))\n",
        "model.add(Dropout(drop_rate))\n",
        "for _ in range(num_layers-1):\n",
        "    model.add(LSTM(rnn_size, return_sequences=True))\n",
        "    model.add(Dropout(drop_rate))\n",
        "model.add(LSTM(rnn_size, return_sequences=False))\n",
        "model.add(Dropout(drop_rate))\n",
        "model.add(Dense(vocab_size, activation='softmax'))\n",
        "#model.add(Flatten())\n",
        "#model.add(TimeDistributed(Dense(vocab_size, activation=\"softmax\")))\n",
        "print(model.summary())\n"
      ],
      "execution_count": 97,
      "outputs": [
        {
          "output_type": "stream",
          "text": [
            "_________________________________________________________________\n",
            "Layer (type)                 Output Shape              Param #   \n",
            "=================================================================\n",
            "embedding_43 (Embedding)     (None, 64, 32)            2272      \n",
            "_________________________________________________________________\n",
            "dropout_113 (Dropout)        (None, 64, 32)            0         \n",
            "_________________________________________________________________\n",
            "lstm_91 (LSTM)               (None, 64, 512)           1116160   \n",
            "_________________________________________________________________\n",
            "dropout_114 (Dropout)        (None, 64, 512)           0         \n",
            "_________________________________________________________________\n",
            "lstm_92 (LSTM)               (None, 64, 512)           2099200   \n",
            "_________________________________________________________________\n",
            "dropout_115 (Dropout)        (None, 64, 512)           0         \n",
            "_________________________________________________________________\n",
            "lstm_93 (LSTM)               (None, 512)               2099200   \n",
            "_________________________________________________________________\n",
            "dropout_116 (Dropout)        (None, 512)               0         \n",
            "_________________________________________________________________\n",
            "dense_14 (Dense)             (None, 71)                36423     \n",
            "=================================================================\n",
            "Total params: 5,353,255\n",
            "Trainable params: 5,353,255\n",
            "Non-trainable params: 0\n",
            "_________________________________________________________________\n",
            "None\n"
          ],
          "name": "stdout"
        }
      ]
    },
    {
      "cell_type": "code",
      "metadata": {
        "id": "4paOBP3Xck3H",
        "colab_type": "code",
        "outputId": "61a44c4c-16b8-4142-8d24-e9604fc4a371",
        "colab": {
          "base_uri": "https://localhost:8080/",
          "height": 3562
        }
      },
      "source": [
        "# model 2\n",
        "# compile model\n",
        "model.compile(loss=\"categorical_crossentropy\", optimizer=Adam(),\n",
        "              metrics=['accuracy'])\n",
        "# fit model\n",
        "model.fit(x_train, y_train, epochs=100, verbose=2)"
      ],
      "execution_count": 98,
      "outputs": [
        {
          "output_type": "stream",
          "text": [
            "WARNING:tensorflow:From /usr/local/lib/python3.6/dist-packages/tensorflow/python/ops/math_ops.py:3066: to_int32 (from tensorflow.python.ops.math_ops) is deprecated and will be removed in a future version.\n",
            "Instructions for updating:\n",
            "Use tf.cast instead.\n",
            "Epoch 1/100\n",
            " - 335s - loss: 3.7421 - acc: 0.0602\n",
            "Epoch 2/100\n",
            " - 321s - loss: 3.6845 - acc: 0.0680\n",
            "Epoch 3/100\n",
            " - 206s - loss: 3.6773 - acc: 0.0704\n",
            "Epoch 4/100\n",
            " - 207s - loss: 3.6950 - acc: 0.0666\n",
            "Epoch 5/100\n",
            " - 167s - loss: 3.6693 - acc: 0.0704\n",
            "Epoch 6/100\n",
            " - 167s - loss: 3.5626 - acc: 0.0852\n",
            "Epoch 7/100\n",
            " - 166s - loss: 3.4456 - acc: 0.1050\n",
            "Epoch 8/100\n",
            " - 166s - loss: 3.3663 - acc: 0.1183\n",
            "Epoch 9/100\n",
            " - 167s - loss: 3.3070 - acc: 0.1306\n",
            "Epoch 10/100\n",
            " - 169s - loss: 3.2115 - acc: 0.1484\n",
            "Epoch 11/100\n",
            " - 168s - loss: 3.1035 - acc: 0.1696\n",
            "Epoch 12/100\n",
            " - 165s - loss: 3.0248 - acc: 0.1844\n",
            "Epoch 13/100\n",
            " - 165s - loss: 2.9620 - acc: 0.1925\n",
            "Epoch 14/100\n",
            " - 166s - loss: 2.9403 - acc: 0.2042\n",
            "Epoch 15/100\n",
            " - 167s - loss: 2.8448 - acc: 0.2227\n",
            "Epoch 16/100\n",
            " - 165s - loss: 2.7810 - acc: 0.2358\n",
            "Epoch 17/100\n",
            " - 166s - loss: 2.7229 - acc: 0.2509\n",
            "Epoch 18/100\n",
            " - 164s - loss: 2.6565 - acc: 0.2717\n",
            "Epoch 19/100\n",
            " - 165s - loss: 2.6011 - acc: 0.2795\n",
            "Epoch 20/100\n",
            " - 164s - loss: 2.5431 - acc: 0.2933\n",
            "Epoch 21/100\n",
            " - 164s - loss: 2.4852 - acc: 0.3061\n",
            "Epoch 22/100\n",
            " - 164s - loss: 2.4139 - acc: 0.3192\n",
            "Epoch 23/100\n",
            " - 166s - loss: 2.3587 - acc: 0.3366\n",
            "Epoch 24/100\n",
            " - 164s - loss: 2.2964 - acc: 0.3489\n",
            "Epoch 25/100\n",
            " - 165s - loss: 2.2294 - acc: 0.3662\n",
            "Epoch 26/100\n",
            " - 165s - loss: 2.1757 - acc: 0.3783\n",
            "Epoch 27/100\n",
            " - 165s - loss: 2.1134 - acc: 0.3934\n",
            "Epoch 28/100\n",
            " - 166s - loss: 2.0418 - acc: 0.4137\n",
            "Epoch 29/100\n",
            " - 165s - loss: 1.9819 - acc: 0.4246\n",
            "Epoch 30/100\n",
            " - 165s - loss: 1.9141 - acc: 0.4460\n",
            "Epoch 31/100\n",
            " - 164s - loss: 1.8653 - acc: 0.4551\n",
            "Epoch 32/100\n",
            " - 165s - loss: 1.7933 - acc: 0.4751\n",
            "Epoch 33/100\n",
            " - 164s - loss: 1.7370 - acc: 0.4876\n",
            "Epoch 34/100\n",
            " - 165s - loss: 1.6804 - acc: 0.5040\n",
            "Epoch 35/100\n",
            " - 164s - loss: 1.6229 - acc: 0.5197\n",
            "Epoch 36/100\n",
            " - 166s - loss: 1.5777 - acc: 0.5334\n",
            "Epoch 37/100\n",
            " - 164s - loss: 1.5196 - acc: 0.5466\n",
            "Epoch 38/100\n",
            " - 166s - loss: 1.4622 - acc: 0.5623\n",
            "Epoch 39/100\n",
            " - 164s - loss: 1.4138 - acc: 0.5760\n",
            "Epoch 40/100\n",
            " - 166s - loss: 1.3852 - acc: 0.5838\n",
            "Epoch 41/100\n",
            " - 163s - loss: 1.3324 - acc: 0.6014\n",
            "Epoch 42/100\n",
            " - 166s - loss: 1.2851 - acc: 0.6122\n",
            "Epoch 43/100\n",
            " - 166s - loss: 1.2466 - acc: 0.6228\n",
            "Epoch 44/100\n",
            " - 164s - loss: 1.2069 - acc: 0.6331\n",
            "Epoch 45/100\n",
            " - 165s - loss: 1.1775 - acc: 0.6403\n",
            "Epoch 46/100\n",
            " - 164s - loss: 1.1451 - acc: 0.6518\n",
            "Epoch 47/100\n",
            " - 165s - loss: 1.0932 - acc: 0.6683\n",
            "Epoch 48/100\n",
            " - 163s - loss: 1.0749 - acc: 0.6715\n",
            "Epoch 49/100\n",
            " - 167s - loss: 1.0326 - acc: 0.6856\n",
            "Epoch 50/100\n",
            " - 164s - loss: 1.0130 - acc: 0.6925\n",
            "Epoch 51/100\n",
            " - 166s - loss: 0.9812 - acc: 0.7009\n",
            "Epoch 52/100\n",
            " - 164s - loss: 0.9557 - acc: 0.7071\n",
            "Epoch 53/100\n",
            " - 166s - loss: 0.9292 - acc: 0.7127\n",
            "Epoch 54/100\n",
            " - 163s - loss: 0.9114 - acc: 0.7149\n",
            "Epoch 55/100\n",
            " - 166s - loss: 0.8917 - acc: 0.7249\n",
            "Epoch 56/100\n",
            " - 164s - loss: 0.8670 - acc: 0.7338\n",
            "Epoch 57/100\n",
            " - 167s - loss: 0.8448 - acc: 0.7372\n",
            "Epoch 58/100\n",
            " - 164s - loss: 0.8157 - acc: 0.7487\n",
            "Epoch 59/100\n",
            " - 165s - loss: 0.8116 - acc: 0.7467\n",
            "Epoch 60/100\n",
            " - 164s - loss: 0.7903 - acc: 0.7534\n",
            "Epoch 61/100\n",
            " - 164s - loss: 0.7684 - acc: 0.7608\n",
            "Epoch 62/100\n",
            " - 165s - loss: 0.7646 - acc: 0.7604\n",
            "Epoch 63/100\n",
            " - 164s - loss: 0.7533 - acc: 0.7622\n",
            "Epoch 64/100\n",
            " - 166s - loss: 0.7413 - acc: 0.7671\n",
            "Epoch 65/100\n",
            " - 164s - loss: 0.7179 - acc: 0.7742\n",
            "Epoch 66/100\n",
            " - 166s - loss: 0.7121 - acc: 0.7744\n",
            "Epoch 67/100\n",
            " - 164s - loss: 0.7006 - acc: 0.7787\n",
            "Epoch 68/100\n",
            " - 166s - loss: 0.6781 - acc: 0.7889\n",
            "Epoch 69/100\n",
            " - 164s - loss: 0.6774 - acc: 0.7879\n",
            "Epoch 70/100\n",
            " - 165s - loss: 0.6560 - acc: 0.7945\n",
            "Epoch 71/100\n",
            " - 163s - loss: 0.6538 - acc: 0.7952\n",
            "Epoch 72/100\n",
            " - 165s - loss: 0.6349 - acc: 0.7985\n",
            "Epoch 73/100\n",
            " - 163s - loss: 0.6239 - acc: 0.8024\n",
            "Epoch 74/100\n",
            " - 164s - loss: 0.6187 - acc: 0.8044\n",
            "Epoch 75/100\n",
            " - 164s - loss: 0.6136 - acc: 0.8031\n",
            "Epoch 76/100\n",
            " - 164s - loss: 0.6085 - acc: 0.8070\n",
            "Epoch 77/100\n",
            " - 165s - loss: 0.6135 - acc: 0.8057\n",
            "Epoch 78/100\n",
            " - 164s - loss: 0.6026 - acc: 0.8058\n",
            "Epoch 79/100\n",
            " - 166s - loss: 0.5817 - acc: 0.8146\n",
            "Epoch 80/100\n",
            " - 164s - loss: 0.5733 - acc: 0.8178\n",
            "Epoch 81/100\n",
            " - 166s - loss: 0.5849 - acc: 0.8132\n",
            "Epoch 82/100\n",
            " - 164s - loss: 0.5741 - acc: 0.8195\n",
            "Epoch 83/100\n",
            " - 166s - loss: 0.5586 - acc: 0.8236\n",
            "Epoch 84/100\n",
            " - 164s - loss: 0.5777 - acc: 0.8163\n",
            "Epoch 85/100\n",
            " - 167s - loss: 0.5786 - acc: 0.8152\n",
            "Epoch 86/100\n",
            " - 165s - loss: 0.5632 - acc: 0.8209\n",
            "Epoch 87/100\n",
            " - 166s - loss: 0.5420 - acc: 0.8268\n",
            "Epoch 88/100\n",
            " - 165s - loss: 0.5349 - acc: 0.8288\n",
            "Epoch 89/100\n",
            " - 165s - loss: 0.5595 - acc: 0.8224\n",
            "Epoch 90/100\n",
            " - 165s - loss: 0.5601 - acc: 0.8218\n",
            "Epoch 91/100\n",
            " - 166s - loss: 0.5406 - acc: 0.8278\n",
            "Epoch 92/100\n",
            " - 167s - loss: 0.5327 - acc: 0.8293\n",
            "Epoch 93/100\n",
            " - 165s - loss: 0.5315 - acc: 0.8296\n",
            "Epoch 94/100\n",
            " - 167s - loss: 0.5398 - acc: 0.8250\n",
            "Epoch 95/100\n",
            " - 165s - loss: 0.5122 - acc: 0.8360\n",
            "Epoch 96/100\n",
            " - 168s - loss: 0.5362 - acc: 0.8273\n",
            "Epoch 97/100\n",
            " - 164s - loss: 0.5365 - acc: 0.8283\n",
            "Epoch 98/100\n",
            " - 165s - loss: 0.5413 - acc: 0.8285\n",
            "Epoch 99/100\n",
            " - 166s - loss: 0.5411 - acc: 0.8261\n",
            "Epoch 100/100\n",
            " - 166s - loss: 0.5418 - acc: 0.8276\n"
          ],
          "name": "stdout"
        },
        {
          "output_type": "execute_result",
          "data": {
            "text/plain": [
              "<keras.callbacks.History at 0x7f64746f0358>"
            ]
          },
          "metadata": {
            "tags": []
          },
          "execution_count": 98
        }
      ]
    },
    {
      "cell_type": "code",
      "metadata": {
        "id": "Cdk5B5_PrZ-h",
        "colab_type": "code",
        "colab": {}
      },
      "source": [
        "# save the model to file\n",
        "model.save('model_2.h5')\n",
        "\n",
        "# save the mapping\n",
        "dump(mapping, open('mapping.pkl', 'wb'))"
      ],
      "execution_count": 0,
      "outputs": []
    },
    {
      "cell_type": "markdown",
      "metadata": {
        "id": "Y51ZoPcGl7e2",
        "colab_type": "text"
      },
      "source": [
        "# **Generate text**"
      ]
    },
    {
      "cell_type": "markdown",
      "metadata": {
        "id": "9GyZnRdvyQVK",
        "colab_type": "text"
      },
      "source": [
        "**model 2**"
      ]
    },
    {
      "cell_type": "code",
      "metadata": {
        "id": "DlpCGdGdl-DW",
        "colab_type": "code",
        "colab": {}
      },
      "source": [
        "# load the model\n",
        "model1 = load_model('model_1.h5')\n",
        "model2 = load_model('model_2.h5')\n",
        "\n",
        "# load the mapping\n",
        "mapping = load(open('mapping.pkl', 'rb'))"
      ],
      "execution_count": 0,
      "outputs": []
    },
    {
      "cell_type": "code",
      "metadata": {
        "id": "XBDeYayOl-K1",
        "colab_type": "code",
        "colab": {}
      },
      "source": [
        "# generate a sequence of characters with a language model\n",
        "def generate_seq(model, mapping, seq_length, seed_text, n_chars):\n",
        "\tin_text = seed_text\n",
        "\t# generate a fixed number of characters\n",
        "\tfor _ in range(n_chars):\n",
        "\t\t# encode the characters as integers\n",
        "\t\tencoded = [mapping[char] for char in in_text]\n",
        "\t\t# truncate sequences to a fixed length\n",
        "\t\tencoded = pad_sequences([encoded], maxlen=seq_length, truncating='pre')\n",
        "\t\t# one hot encode\n",
        "\t\t# encoded = to_categorical(encoded, num_classes=len(mapping))\n",
        "\t\t# predict character\n",
        "\t\tyhat = model.predict_classes(encoded, verbose=0)\n",
        "\t\t# reverse map integer to character\n",
        "\t\tout_char = ''\n",
        "\t\tfor char, index in mapping.items():\n",
        "\t\t\tif index == yhat:\n",
        "\t\t\t\tout_char = char\n",
        "\t\t\t\tbreak\n",
        "\t\t# append to input\n",
        "\t\tin_text += char\n",
        "\treturn in_text"
      ],
      "execution_count": 0,
      "outputs": []
    },
    {
      "cell_type": "code",
      "metadata": {
        "id": "C9yPptFc3CHy",
        "colab_type": "code",
        "colab": {
          "base_uri": "https://localhost:8080/",
          "height": 242
        },
        "outputId": "69771b67-5728-4a10-bbe3-f4569d448089"
      },
      "source": [
        "a = generate_seq(model1, mapping, 64, '๏จะ', 500)\n",
        "print(a)"
      ],
      "execution_count": 219,
      "outputs": [
        {
          "output_type": "stream",
          "text": [
            "๏จะคุค้ฟั้วกบุบหยายพันจะไป\n",
            "ขุนไกรได้ฟังให้แม่เข้าไป\tหัวนักนั้นแล้วไปมาถึงมา\n",
            "ครั้นถึงลุกนั้นเป็นเห็นนาง\tเป็นเล่นหมุมขึงจะคลอน\n",
            "พลิ้งโร่งคร่อยว่องเมือนสงา\tพระเดชรับหวานอุกใสรรรยา\tพลังนั่นมีแล้วก็ไม่\n",
            "ทิ่งตระบื่นนี่ควาดรรดคร\tดังไร\n",
            "พระสวนั่นอกลามอุหมาบเพียงแต้\tปู่ย่าตายายสบายใจ\tข้าไกให้เกิดมาช้า\tอักเฉิดเห็นเห็นผิดตระสายร่วงาย\n",
            "แล้วก็กเที่นายส่านสองไม้มา\n",
            "เลี้ยงมาก็เดือนสนร้องไป\tขุนช้างเอาเห็นเห็นผิดกลับถัวนาน\n",
            "นางแต่ล้วหน้ายวลยองคลอนค์ผิงดนกลายดแล้วนิน\n",
            "เที่ยวถึงเย่นไม่\n",
            "อยู่ในแล้วก็ได้\n",
            "เที้ยงมาก็สมรับพลาน\n",
            "จะ\n"
          ],
          "name": "stdout"
        }
      ]
    },
    {
      "cell_type": "code",
      "metadata": {
        "id": "MGTitA5ytMsX",
        "colab_type": "code",
        "outputId": "bdd14846-6424-4e96-953d-8f982f449168",
        "colab": {
          "base_uri": "https://localhost:8080/",
          "height": 173
        }
      },
      "source": [
        "b = generate_seq(model2, mapping, 64, '๏จะ', 500)\n",
        "print(b)"
      ],
      "execution_count": 221,
      "outputs": [
        {
          "output_type": "stream",
          "text": [
            "๏จะกล่าวถึงนางศรีประจัน\tเป็นเศรษฐีมีพันธุ์ด้วยกันมา\n",
            "อยู่ท่าพี่เลี้ยงเมืองสุพรรณ\tให้ห้าวันตามที่มีหมายมาฯ\n",
            "๏ครานั้นพระองค์ผู้ทรงเดช\tทุกประเทศฦๅลบสยบสยอน\n",
            "ครั้นจวนแจ้งแสงศรีรวีวร\tพระภูธรเสด็จสู่ที่สรงชล\n",
            "ไขสุหร่ายหยัดย้อยเป็นสองสายบ่าน\tเอาเบี้ยบนลนลานเหน็บฝาเกลื่อน\n",
            "บ้างเร่งหมอตำแยอย่าแชเชือน\tข่มท้องร้องเตือนลูกขวางตัว\n",
            "บ้างก็เข้าหนุนหลังนั่งเคียงข้าง\tกลายแก้วโดดแหวกเข้าแทรกกลาง\tชกหัวขุนช้างที่กลางเกลี้ยง\n",
            "ขุนช้างทำหลับอยู่กับเตียง\tฝ่ายนางพิมนอนเคียงค่อยเมียงมอง\n",
            "ขุนช้างวางร้องก้องกู่โวย\tขโมยลักเมียกูจู่จาก\n"
          ],
          "name": "stdout"
        }
      ]
    },
    {
      "cell_type": "markdown",
      "metadata": {
        "id": "vZYv5r7ElY-w",
        "colab_type": "text"
      },
      "source": [
        "# **Evaluate model on dev set**"
      ]
    },
    {
      "cell_type": "code",
      "metadata": {
        "id": "N96apId2lkRu",
        "colab_type": "code",
        "colab": {
          "base_uri": "https://localhost:8080/",
          "height": 52
        },
        "outputId": "67ac0c6a-c528-4dde-bee9-9c6998ccadb0"
      },
      "source": [
        "model1.evaluate(x_val, y_val)"
      ],
      "execution_count": 209,
      "outputs": [
        {
          "output_type": "stream",
          "text": [
            "19936/19936 [==============================] - 25s 1ms/step\n"
          ],
          "name": "stdout"
        },
        {
          "output_type": "execute_result",
          "data": {
            "text/plain": [
              "[5.542001793510841, 0.16873996789727128]"
            ]
          },
          "metadata": {
            "tags": []
          },
          "execution_count": 209
        },
        {
          "output_type": "stream",
          "text": [
            "\r   32/19936 [..............................] - ETA: 30s"
          ],
          "name": "stdout"
        }
      ]
    },
    {
      "cell_type": "code",
      "metadata": {
        "id": "ano67tEXlpoP",
        "colab_type": "code",
        "colab": {
          "base_uri": "https://localhost:8080/",
          "height": 52
        },
        "outputId": "71467ab8-3958-4474-c6f8-da9379f4acba"
      },
      "source": [
        "model2.evaluate(x_val, y_val)"
      ],
      "execution_count": 201,
      "outputs": [
        {
          "output_type": "stream",
          "text": [
            "19936/19936 [==============================] - 66s 3ms/step\n"
          ],
          "name": "stdout"
        },
        {
          "output_type": "execute_result",
          "data": {
            "text/plain": [
              "[5.480580599311841, 0.17325441412520065]"
            ]
          },
          "metadata": {
            "tags": []
          },
          "execution_count": 201
        }
      ]
    },
    {
      "cell_type": "markdown",
      "metadata": {
        "id": "XYW2mOiUlqAt",
        "colab_type": "text"
      },
      "source": [
        "# **Evaluate model on test set**"
      ]
    },
    {
      "cell_type": "code",
      "metadata": {
        "id": "7m3Bu0MRlzfe",
        "colab_type": "code",
        "colab": {
          "base_uri": "https://localhost:8080/",
          "height": 52
        },
        "outputId": "5dbdcabd-fdc3-45bf-8e8c-adfc6a224d8b"
      },
      "source": [
        "model1.evaluate(x_test, y_test)"
      ],
      "execution_count": 202,
      "outputs": [
        {
          "output_type": "stream",
          "text": [
            "19936/19936 [==============================] - 24s 1ms/step\n"
          ],
          "name": "stdout"
        },
        {
          "output_type": "execute_result",
          "data": {
            "text/plain": [
              "[10.327602405609326, 0.020064205457463884]"
            ]
          },
          "metadata": {
            "tags": []
          },
          "execution_count": 202
        }
      ]
    },
    {
      "cell_type": "code",
      "metadata": {
        "id": "P0iUcNJm-jpC",
        "colab_type": "code",
        "colab": {
          "base_uri": "https://localhost:8080/",
          "height": 52
        },
        "outputId": "db6dcd76-845f-4958-fb1b-c375117de801"
      },
      "source": [
        "model2.evaluate(x_test, y_test)"
      ],
      "execution_count": 206,
      "outputs": [
        {
          "output_type": "stream",
          "text": [
            "19936/19936 [==============================] - 66s 3ms/step\n"
          ],
          "name": "stdout"
        },
        {
          "output_type": "execute_result",
          "data": {
            "text/plain": [
              "[9.633312054660118, 0.017054574638844303]"
            ]
          },
          "metadata": {
            "tags": []
          },
          "execution_count": 206
        }
      ]
    }
  ]
}